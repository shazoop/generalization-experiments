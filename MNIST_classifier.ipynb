{
  "nbformat": 4,
  "nbformat_minor": 0,
  "metadata": {
    "colab": {
      "name": "MNIST classifier",
      "provenance": [],
      "collapsed_sections": [],
      "authorship_tag": "ABX9TyNOY6vnsxkt6cDWbu7ecX9l",
      "include_colab_link": true
    },
    "kernelspec": {
      "name": "python3",
      "display_name": "Python 3"
    },
    "language_info": {
      "name": "python"
    },
    "accelerator": "GPU"
  },
  "cells": [
    {
      "cell_type": "markdown",
      "metadata": {
        "id": "view-in-github",
        "colab_type": "text"
      },
      "source": [
        "<a href=\"https://colab.research.google.com/github/shazoop/generalization-experiments/blob/main/MNIST_classifier.ipynb\" target=\"_parent\"><img src=\"https://colab.research.google.com/assets/colab-badge.svg\" alt=\"Open In Colab\"/></a>"
      ]
    },
    {
      "cell_type": "code",
      "metadata": {
        "id": "oj35NHx_YLmP"
      },
      "source": [
        "import torch\n",
        "import torchvision\n",
        "import torchvision.transforms as transforms"
      ],
      "execution_count": 1,
      "outputs": []
    },
    {
      "cell_type": "code",
      "metadata": {
        "colab": {
          "base_uri": "https://localhost:8080/"
        },
        "id": "67_XTYIhYVdL",
        "outputId": "2d03a75e-62a3-4b98-cbe1-1548a38d40d8"
      },
      "source": [
        "transform = transforms.Compose(\n",
        "    [transforms.ToTensor(),\n",
        "     transforms.Normalize(.3,.3)]\n",
        ")\n",
        "\n",
        "#One time for downloading the MNIST dataset. Don't need to download this again a second time.\n",
        "trainset = torchvision.datasets.MNIST(root='./data', train = True , download = True, transform = transform)\n",
        "testset = torchvision.datasets.MNIST(root='./data', train = False , download = True, transform = transform)\n",
        "\n"
      ],
      "execution_count": 2,
      "outputs": [
        {
          "output_type": "stream",
          "text": [
            "/usr/local/lib/python3.7/dist-packages/torchvision/datasets/mnist.py:498: UserWarning: The given NumPy array is not writeable, and PyTorch does not support non-writeable tensors. This means you can write to the underlying (supposedly non-writeable) NumPy array using the tensor. You may want to copy the array to protect its data or make it writeable before converting it to a tensor. This type of warning will be suppressed for the rest of this program. (Triggered internally at  /pytorch/torch/csrc/utils/tensor_numpy.cpp:180.)\n",
            "  return torch.from_numpy(parsed.astype(m[2], copy=False)).view(*s)\n"
          ],
          "name": "stderr"
        }
      ]
    },
    {
      "cell_type": "code",
      "metadata": {
        "id": "bIbhcnPFcaiQ"
      },
      "source": [
        "#Set the batch size\n",
        "\n",
        "batch_size = 300"
      ],
      "execution_count": 3,
      "outputs": []
    },
    {
      "cell_type": "code",
      "metadata": {
        "id": "JMkPwb6AZfIC"
      },
      "source": [
        "train_loader = torch.utils.data.DataLoader(trainset, batch_size=batch_size, shuffle=True)\n",
        "test_loader = torch.utils.data.DataLoader(testset, batch_size=batch_size, shuffle=True)\n",
        "\n"
      ],
      "execution_count": 4,
      "outputs": []
    },
    {
      "cell_type": "code",
      "metadata": {
        "id": "WPxnMpJFdzua"
      },
      "source": [
        "import torch.nn as nn\n",
        "import torch.nn.functional as F"
      ],
      "execution_count": 5,
      "outputs": []
    },
    {
      "cell_type": "code",
      "metadata": {
        "id": "FzLuMOjXZr_U"
      },
      "source": [
        "class net(nn.Module):\n",
        "    def __init__(self):\n",
        "        super(net, self).__init__()\n",
        "        self.conv1 = nn.Conv2d(1, 32, 3, 1)\n",
        "        self.conv2 = nn.Conv2d(32, 64, 3, 1)\n",
        "        self.fc1 = nn.Linear(9216, 128)\n",
        "        self.fc2 = nn.Linear(128, 9)\n",
        "    \n",
        "    def forward(self, x):\n",
        "        x = self.conv1(x)\n",
        "        x = F.relu(x)\n",
        "        x = self.conv2(x)\n",
        "        x = F.relu(x)\n",
        "        x = F.max_pool2d(x, 2)\n",
        "        x = torch.flatten(x, 1)\n",
        "        x = self.fc1(x)\n",
        "        x = F.relu(x)\n",
        "        x = self.fc2(x)\n",
        "        output = F.log_softmax(x, dim=1)\n",
        "        return output"
      ],
      "execution_count": 6,
      "outputs": []
    },
    {
      "cell_type": "code",
      "metadata": {
        "id": "4rp5vRc-gvGl"
      },
      "source": [
        "def train_dbl(print_interval, model, device, train_loader, optimizer, epoch, num, num_alt):\n",
        "    model.train()\n",
        "    for batch_idx, (data, target) in enumerate(train_loader):\n",
        "        ix1 = (target == num)\n",
        "        ix2 = (target == num_alt)\n",
        "        ix = torch.logical_or(ix1,ix2)\n",
        "        # ix = (target != num)\n",
        "        data, target = data[ix], target[ix]\n",
        "        target[target == num] = 0\n",
        "        target[target == num_alt] = 1\n",
        "        data, target = data.to(device), target.to(device)\n",
        "        optimizer.zero_grad()\n",
        "        output = model(data)\n",
        "        loss = F.nll_loss(output, target)\n",
        "        loss.backward()\n",
        "        optimizer.step()\n",
        "        if batch_idx % print_interval == 0:\n",
        "            print('Train Epoch: {} [{}/{} ({:.0f}%)]\\tLoss: {:.6f}'.format(\n",
        "                epoch, batch_idx * len(data), len(train_loader.dataset),\n",
        "                100. * batch_idx / len(train_loader), loss.item()))\n",
        "\n",
        "\n",
        "def test_dbl(model, device, test_loader, num,num_alt):\n",
        "    model.eval()\n",
        "    test_loss = 0\n",
        "    correct = 0\n",
        "    with torch.no_grad():\n",
        "        for data, target in test_loader:\n",
        "            # ix = (target != num)\n",
        "            ix1 = (target == num)\n",
        "            ix2 = (target == num_alt)\n",
        "            ix = torch.logical_or(ix1,ix2)\n",
        "            data, target = data[ix], target[ix]\n",
        "            target[target == num] = 0\n",
        "            target[target == num_alt] = 1\n",
        "            data, target = data.to(device), target.to(device)\n",
        "            output = model(data)\n",
        "            test_loss += F.nll_loss(output, target, reduction='sum').item()  # sum up batch loss\n",
        "            pred = output.argmax(dim=1, keepdim=True)  # get the index of the max log-probability\n",
        "            correct += pred.eq(target.view_as(pred)).sum().item()\n",
        "    ix1 = test_loader.dataset.targets == num\n",
        "    ix2 = test_loader.dataset.targets == num_alt\n",
        "    ix = torch.logical_or(ix2, ix1)\n",
        "    data_size = torch.sum(ix)\n",
        "    test_loss /= data_size\n",
        "\n",
        "    print('\\nTest set: Average loss: {:.4f}, Accuracy: {}/{} ({:.0f}%)\\n'.format(\n",
        "        test_loss, correct, data_size,\n",
        "        100. * correct /data_size))\n",
        "\n",
        "\n",
        " \n",
        "\n"
      ],
      "execution_count": 7,
      "outputs": []
    },
    {
      "cell_type": "code",
      "metadata": {
        "id": "CHB4uW0-VqC4"
      },
      "source": [
        "def train(print_interval, model, device, train_loader, optimizer, epoch, num, num_alt):\n",
        "    model.train()\n",
        "    for batch_idx, (data, target) in enumerate(train_loader):\n",
        "        ix = (target != num_alt)\n",
        "        data, target = data[ix], target[ix]\n",
        "        target[target == num] = -1\n",
        "        target[target > num] -= 1\n",
        "        target[target > (num_alt - (num_alt > num))] -= 1\n",
        "        target += 1\n",
        "        assert torch.max(target).item() == 8\n",
        "        assert torch.min(target).item() == 0\n",
        "        assert target.size(0) == data.size(0)\n",
        "        data, target = data.to(device), target.to(device)\n",
        "        optimizer.zero_grad()\n",
        "        output = model(data)\n",
        "        loss = F.nll_loss(output, target)\n",
        "        loss.backward()\n",
        "        optimizer.step()\n",
        "        if batch_idx % print_interval == 0:\n",
        "            print('Train Epoch: {} [{}/{} ({:.0f}%)]\\tLoss: {:.6f}'.format(\n",
        "                epoch, batch_idx * len(data), len(train_loader.dataset),\n",
        "                100. * batch_idx / len(train_loader), loss.item()))\n",
        "\n",
        "\n",
        "def test(model, device, test_loader, num, num_alt):\n",
        "    model.eval()\n",
        "    test_loss = 0\n",
        "    correct = 0\n",
        "    with torch.no_grad():\n",
        "        for data, target in test_loader:\n",
        "            ix = (target != num_alt)\n",
        "            data, target = data[ix], target[ix]\n",
        "            target[target == num] = -1\n",
        "            target[target > num] -= 1\n",
        "            target[target > (num_alt - (num_alt > num))] -= 1\n",
        "            target += 1\n",
        "            assert torch.max(target).item() == 8\n",
        "            assert torch.min(target).item() == 0\n",
        "            data, target = data.to(device), target.to(device)\n",
        "            output = model(data)\n",
        "            test_loss += F.nll_loss(output, target, reduction='sum').item()  # sum up batch loss\n",
        "            pred = output.argmax(dim=1, keepdim=True)  # get the index of the max log-probability\n",
        "            correct += pred.eq(target.view_as(pred)).sum().item()\n",
        "    data_size = torch.sum(test_loader.dataset.targets != num_alt)\n",
        "    test_loss /= data_size\n",
        "\n",
        "    print('\\nTest set: Average loss: {:.4f}, Accuracy: {}/{} ({:.0f}%)\\n'.format(\n",
        "        test_loss, correct, data_size,\n",
        "        100. * correct /data_size))\n",
        "\n",
        "\n",
        " \n"
      ],
      "execution_count": 8,
      "outputs": []
    },
    {
      "cell_type": "code",
      "metadata": {
        "id": "FfDDc8symI9-"
      },
      "source": [
        "import torch.optim as optim"
      ],
      "execution_count": 9,
      "outputs": []
    },
    {
      "cell_type": "code",
      "metadata": {
        "id": "Y3gfnWjAg73_"
      },
      "source": [
        "device = torch.device(\"cuda\")\n",
        "Model = net().to(device)\n",
        "optimizer = optim.Adam(Model.parameters(), lr=0.001) #e-1\n"
      ],
      "execution_count": 46,
      "outputs": []
    },
    {
      "cell_type": "code",
      "metadata": {
        "id": "QDM6z8d-lLiv"
      },
      "source": [
        "epoch = 3\n",
        "print_interval = 10"
      ],
      "execution_count": 21,
      "outputs": []
    },
    {
      "cell_type": "code",
      "metadata": {
        "id": "_QQhS0zxqEHg"
      },
      "source": [
        "num = 8\n",
        "num_alt = 5"
      ],
      "execution_count": 47,
      "outputs": []
    },
    {
      "cell_type": "code",
      "metadata": {
        "colab": {
          "base_uri": "https://localhost:8080/"
        },
        "id": "qnSHr1KJwFpY",
        "outputId": "f5038a2e-8d64-465f-fc7f-f68f24b5b126"
      },
      "source": [
        "for eph in range(1, epoch+1):\n",
        "  train(print_interval, Model, device, train_loader, optimizer, eph, num,num_alt)\n",
        "  test(Model,device, test_loader, num, num_alt)"
      ],
      "execution_count": 48,
      "outputs": [
        {
          "output_type": "stream",
          "text": [
            "Train Epoch: 1 [0/60000 (0%)]\tLoss: 2.196214\n",
            "Train Epoch: 1 [2790/60000 (5%)]\tLoss: 0.480815\n",
            "Train Epoch: 1 [5380/60000 (10%)]\tLoss: 0.213993\n",
            "Train Epoch: 1 [7950/60000 (15%)]\tLoss: 0.250552\n",
            "Train Epoch: 1 [10600/60000 (20%)]\tLoss: 0.182607\n",
            "Train Epoch: 1 [13850/60000 (25%)]\tLoss: 0.196207\n",
            "Train Epoch: 1 [16800/60000 (30%)]\tLoss: 0.160527\n",
            "Train Epoch: 1 [18830/60000 (35%)]\tLoss: 0.126895\n",
            "Train Epoch: 1 [22000/60000 (40%)]\tLoss: 0.107343\n",
            "Train Epoch: 1 [25560/60000 (45%)]\tLoss: 0.101963\n",
            "Train Epoch: 1 [26100/60000 (50%)]\tLoss: 0.087991\n",
            "Train Epoch: 1 [30360/60000 (55%)]\tLoss: 0.061461\n",
            "Train Epoch: 1 [33120/60000 (60%)]\tLoss: 0.053413\n",
            "Train Epoch: 1 [35880/60000 (65%)]\tLoss: 0.086097\n",
            "Train Epoch: 1 [37800/60000 (70%)]\tLoss: 0.102917\n",
            "Train Epoch: 1 [40050/60000 (75%)]\tLoss: 0.061378\n",
            "Train Epoch: 1 [44640/60000 (80%)]\tLoss: 0.042635\n",
            "Train Epoch: 1 [46070/60000 (85%)]\tLoss: 0.107503\n",
            "Train Epoch: 1 [49860/60000 (90%)]\tLoss: 0.089307\n",
            "Train Epoch: 1 [51110/60000 (95%)]\tLoss: 0.044715\n",
            "\n",
            "Test set: Average loss: 0.0531, Accuracy: 8951/9108 (98%)\n",
            "\n",
            "Train Epoch: 2 [0/60000 (0%)]\tLoss: 0.048174\n",
            "Train Epoch: 2 [2760/60000 (5%)]\tLoss: 0.070901\n",
            "Train Epoch: 2 [5460/60000 (10%)]\tLoss: 0.043492\n",
            "Train Epoch: 2 [8250/60000 (15%)]\tLoss: 0.017890\n",
            "Train Epoch: 2 [11080/60000 (20%)]\tLoss: 0.053532\n",
            "Train Epoch: 2 [13400/60000 (25%)]\tLoss: 0.040916\n",
            "Train Epoch: 2 [15840/60000 (30%)]\tLoss: 0.046868\n",
            "Train Epoch: 2 [18690/60000 (35%)]\tLoss: 0.059938\n",
            "Train Epoch: 2 [21520/60000 (40%)]\tLoss: 0.064533\n",
            "Train Epoch: 2 [24570/60000 (45%)]\tLoss: 0.047298\n",
            "Train Epoch: 2 [26800/60000 (50%)]\tLoss: 0.083211\n",
            "Train Epoch: 2 [29260/60000 (55%)]\tLoss: 0.013804\n",
            "Train Epoch: 2 [32400/60000 (60%)]\tLoss: 0.033424\n",
            "Train Epoch: 2 [34840/60000 (65%)]\tLoss: 0.082919\n",
            "Train Epoch: 2 [36680/60000 (70%)]\tLoss: 0.040799\n",
            "Train Epoch: 2 [42300/60000 (75%)]\tLoss: 0.040418\n",
            "Train Epoch: 2 [44480/60000 (80%)]\tLoss: 0.043565\n",
            "Train Epoch: 2 [45220/60000 (85%)]\tLoss: 0.017496\n",
            "Train Epoch: 2 [48960/60000 (90%)]\tLoss: 0.042220\n",
            "Train Epoch: 2 [50350/60000 (95%)]\tLoss: 0.056128\n",
            "\n",
            "Test set: Average loss: 0.0348, Accuracy: 9005/9108 (99%)\n",
            "\n",
            "Train Epoch: 3 [0/60000 (0%)]\tLoss: 0.031599\n",
            "Train Epoch: 3 [2650/60000 (5%)]\tLoss: 0.042209\n",
            "Train Epoch: 3 [5500/60000 (10%)]\tLoss: 0.007559\n",
            "Train Epoch: 3 [8160/60000 (15%)]\tLoss: 0.014329\n",
            "Train Epoch: 3 [11040/60000 (20%)]\tLoss: 0.009242\n",
            "Train Epoch: 3 [13900/60000 (25%)]\tLoss: 0.017099\n",
            "Train Epoch: 3 [16320/60000 (30%)]\tLoss: 0.005120\n",
            "Train Epoch: 3 [19180/60000 (35%)]\tLoss: 0.047358\n",
            "Train Epoch: 3 [22240/60000 (40%)]\tLoss: 0.028709\n",
            "Train Epoch: 3 [24210/60000 (45%)]\tLoss: 0.034030\n",
            "Train Epoch: 3 [27100/60000 (50%)]\tLoss: 0.047022\n",
            "Train Epoch: 3 [30030/60000 (55%)]\tLoss: 0.055361\n",
            "Train Epoch: 3 [33480/60000 (60%)]\tLoss: 0.013958\n",
            "Train Epoch: 3 [35620/60000 (65%)]\tLoss: 0.047313\n",
            "Train Epoch: 3 [39200/60000 (70%)]\tLoss: 0.013887\n",
            "Train Epoch: 3 [41400/60000 (75%)]\tLoss: 0.019152\n",
            "Train Epoch: 3 [43200/60000 (80%)]\tLoss: 0.018336\n",
            "Train Epoch: 3 [46240/60000 (85%)]\tLoss: 0.042166\n",
            "Train Epoch: 3 [49140/60000 (90%)]\tLoss: 0.028388\n",
            "Train Epoch: 3 [51490/60000 (95%)]\tLoss: 0.022398\n",
            "\n",
            "Test set: Average loss: 0.0365, Accuracy: 9004/9108 (99%)\n",
            "\n"
          ],
          "name": "stdout"
        }
      ]
    },
    {
      "cell_type": "code",
      "metadata": {
        "id": "c20Xt5Cikwv6"
      },
      "source": [
        "# for eph in range(1, epoch+1):\n",
        "#   train_dbl(print_interval, Model, device, train_loader, optimizer, eph, num2,num_alt)\n",
        "#   test_dbl(Model,device, test_loader, num2, num_alt)"
      ],
      "execution_count": 49,
      "outputs": []
    },
    {
      "cell_type": "code",
      "metadata": {
        "id": "xpvEJfe3l5xS"
      },
      "source": [
        "import copy"
      ],
      "execution_count": 50,
      "outputs": []
    },
    {
      "cell_type": "code",
      "metadata": {
        "id": "KbIjvE6Bsmuz"
      },
      "source": [
        "Model_clone = copy.deepcopy(Model)"
      ],
      "execution_count": 51,
      "outputs": []
    },
    {
      "cell_type": "code",
      "metadata": {
        "id": "BrftiJrxtFU6"
      },
      "source": [
        "class transnet(nn.Module):\n",
        "    def __init__(self):\n",
        "        super(transnet, self).__init__()\n",
        "        self.conv1 = nn.Conv2d(1, 16, 3, 1)\n",
        "        self.conv2 = nn.Conv2d(16, 32, 3, 1)\n",
        "        self.fc1 = nn.Linear(4608, 28*28)\n",
        "    \n",
        "    def forward(self, x):\n",
        "        x = self.conv1(x)\n",
        "        x = F.relu(x)\n",
        "        x = self.conv2(x)\n",
        "        x = F.relu(x)\n",
        "        x = F.max_pool2d(x, 2)\n",
        "        x = torch.flatten(x, 1)\n",
        "        x = self.fc1(x)\n",
        "        x = F.relu(x)\n",
        "        # x = self.fc2(x)\n",
        "        # x = F.relu(x)\n",
        "        # x = self.fc3(x)\n",
        "        # x = F.relu(x)\n",
        "        x = torch.reshape(x,(-1,1,28,28))\n",
        "        return x\n",
        "\n",
        "\n",
        "class stacknet(nn.Module):\n",
        "    def __init__(self, translator, classifier):\n",
        "        super(stacknet, self).__init__()\n",
        "        self.translator = translator\n",
        "        self.classifier = classifier\n",
        "    def forward(self, x):\n",
        "        x = self.translator(x)\n",
        "        x = self.classifier(x)\n",
        "        return x"
      ],
      "execution_count": 52,
      "outputs": []
    },
    {
      "cell_type": "code",
      "metadata": {
        "id": "Lphoq4fxfIfg"
      },
      "source": [
        "trans = transnet().to(device)"
      ],
      "execution_count": 53,
      "outputs": []
    },
    {
      "cell_type": "code",
      "metadata": {
        "id": "ywdiS0XgzS9T"
      },
      "source": [
        "stack = stacknet(trans,Model_clone).to(device)"
      ],
      "execution_count": 54,
      "outputs": []
    },
    {
      "cell_type": "code",
      "metadata": {
        "colab": {
          "base_uri": "https://localhost:8080/"
        },
        "id": "kz8xvcOVzZG2",
        "outputId": "480c4dbb-f771-480e-8ad7-2f30554b6153"
      },
      "source": [
        "test(stack, device, test_loader, num, num_alt)"
      ],
      "execution_count": 55,
      "outputs": [
        {
          "output_type": "stream",
          "text": [
            "\n",
            "Test set: Average loss: 2.2692, Accuracy: 983/9108 (11%)\n",
            "\n"
          ],
          "name": "stdout"
        }
      ]
    },
    {
      "cell_type": "code",
      "metadata": {
        "colab": {
          "base_uri": "https://localhost:8080/"
        },
        "id": "cterdAKPQsC3",
        "outputId": "f19dbcd6-8f3d-4022-d314-dbef32d52e4e"
      },
      "source": [
        "test(Model_clone, device, test_loader, num, num_alt) #works well on trained class"
      ],
      "execution_count": 56,
      "outputs": [
        {
          "output_type": "stream",
          "text": [
            "\n",
            "Test set: Average loss: 0.0365, Accuracy: 9004/9108 (99%)\n",
            "\n"
          ],
          "name": "stdout"
        }
      ]
    },
    {
      "cell_type": "code",
      "metadata": {
        "colab": {
          "base_uri": "https://localhost:8080/"
        },
        "id": "2qsMriaXyDx5",
        "outputId": "dd429905-a575-4c8c-f824-3f1e15716bd4"
      },
      "source": [
        "test(Model_clone, device, test_loader, num_alt, num) #and fails on unseen class"
      ],
      "execution_count": 57,
      "outputs": [
        {
          "output_type": "stream",
          "text": [
            "\n",
            "Test set: Average loss: 0.3083, Accuracy: 8344/9026 (92%)\n",
            "\n"
          ],
          "name": "stdout"
        }
      ]
    },
    {
      "cell_type": "code",
      "metadata": {
        "id": "eszMJPv4zkCu"
      },
      "source": [
        "for par in stack.classifier.parameters():\n",
        "  par.requires_grad = False"
      ],
      "execution_count": 58,
      "outputs": []
    },
    {
      "cell_type": "code",
      "metadata": {
        "id": "p_jWaQ5qTlQY"
      },
      "source": [
        "optimizer = optim.Adam(stack.parameters(), lr=1e-3) #e-1"
      ],
      "execution_count": 59,
      "outputs": []
    },
    {
      "cell_type": "code",
      "metadata": {
        "id": "wlUBOwA7fPhk",
        "colab": {
          "base_uri": "https://localhost:8080/"
        },
        "outputId": "0725fa5b-eb2b-4698-b643-7504ab1523c4"
      },
      "source": [
        "for eph in range(1, epoch+1):\n",
        "  train(print_interval, stack, device, train_loader, optimizer, eph, num_alt, num)\n",
        "  test(stack,device, test_loader, num_alt, num)"
      ],
      "execution_count": 60,
      "outputs": [
        {
          "output_type": "stream",
          "text": [
            "Train Epoch: 1 [0/60000 (0%)]\tLoss: 2.298140\n",
            "Train Epoch: 1 [2630/60000 (5%)]\tLoss: 0.317677\n",
            "Train Epoch: 1 [5340/60000 (10%)]\tLoss: 0.232765\n",
            "Train Epoch: 1 [8310/60000 (15%)]\tLoss: 0.165344\n",
            "Train Epoch: 1 [10920/60000 (20%)]\tLoss: 0.114740\n",
            "Train Epoch: 1 [13500/60000 (25%)]\tLoss: 0.142213\n",
            "Train Epoch: 1 [15660/60000 (30%)]\tLoss: 0.111316\n",
            "Train Epoch: 1 [19390/60000 (35%)]\tLoss: 0.098823\n",
            "Train Epoch: 1 [21600/60000 (40%)]\tLoss: 0.057890\n",
            "Train Epoch: 1 [24030/60000 (45%)]\tLoss: 0.138716\n",
            "Train Epoch: 1 [26900/60000 (50%)]\tLoss: 0.046653\n",
            "Train Epoch: 1 [29480/60000 (55%)]\tLoss: 0.057619\n",
            "Train Epoch: 1 [31320/60000 (60%)]\tLoss: 0.090371\n",
            "Train Epoch: 1 [35230/60000 (65%)]\tLoss: 0.031027\n",
            "Train Epoch: 1 [37660/60000 (70%)]\tLoss: 0.047455\n",
            "Train Epoch: 1 [40200/60000 (75%)]\tLoss: 0.073152\n",
            "Train Epoch: 1 [43520/60000 (80%)]\tLoss: 0.043576\n",
            "Train Epoch: 1 [46070/60000 (85%)]\tLoss: 0.046235\n",
            "Train Epoch: 1 [48240/60000 (90%)]\tLoss: 0.056594\n",
            "Train Epoch: 1 [51490/60000 (95%)]\tLoss: 0.073041\n",
            "\n",
            "Test set: Average loss: 0.0514, Accuracy: 8880/9026 (98%)\n",
            "\n",
            "Train Epoch: 2 [0/60000 (0%)]\tLoss: 0.051024\n",
            "Train Epoch: 2 [2580/60000 (5%)]\tLoss: 0.018710\n",
            "Train Epoch: 2 [5480/60000 (10%)]\tLoss: 0.025499\n",
            "Train Epoch: 2 [8400/60000 (15%)]\tLoss: 0.027155\n",
            "Train Epoch: 2 [11000/60000 (20%)]\tLoss: 0.069602\n",
            "Train Epoch: 2 [13250/60000 (25%)]\tLoss: 0.019501\n",
            "Train Epoch: 2 [16320/60000 (30%)]\tLoss: 0.019034\n",
            "Train Epoch: 2 [19040/60000 (35%)]\tLoss: 0.026694\n",
            "Train Epoch: 2 [20880/60000 (40%)]\tLoss: 0.009187\n",
            "Train Epoch: 2 [24570/60000 (45%)]\tLoss: 0.022846\n",
            "Train Epoch: 2 [26900/60000 (50%)]\tLoss: 0.036393\n",
            "Train Epoch: 2 [29480/60000 (55%)]\tLoss: 0.070358\n",
            "Train Epoch: 2 [32520/60000 (60%)]\tLoss: 0.040432\n",
            "Train Epoch: 2 [35880/60000 (65%)]\tLoss: 0.053635\n",
            "Train Epoch: 2 [37660/60000 (70%)]\tLoss: 0.033507\n",
            "Train Epoch: 2 [40650/60000 (75%)]\tLoss: 0.049830\n",
            "Train Epoch: 2 [43680/60000 (80%)]\tLoss: 0.006683\n",
            "Train Epoch: 2 [46240/60000 (85%)]\tLoss: 0.024537\n",
            "Train Epoch: 2 [48060/60000 (90%)]\tLoss: 0.025686\n",
            "Train Epoch: 2 [52060/60000 (95%)]\tLoss: 0.073391\n",
            "\n",
            "Test set: Average loss: 0.0446, Accuracy: 8898/9026 (99%)\n",
            "\n",
            "Train Epoch: 3 [0/60000 (0%)]\tLoss: 0.018147\n",
            "Train Epoch: 3 [2670/60000 (5%)]\tLoss: 0.022573\n",
            "Train Epoch: 3 [5320/60000 (10%)]\tLoss: 0.030145\n",
            "Train Epoch: 3 [8280/60000 (15%)]\tLoss: 0.021069\n",
            "Train Epoch: 3 [11000/60000 (20%)]\tLoss: 0.012637\n",
            "Train Epoch: 3 [13850/60000 (25%)]\tLoss: 0.006634\n",
            "Train Epoch: 3 [15960/60000 (30%)]\tLoss: 0.031150\n",
            "Train Epoch: 3 [18480/60000 (35%)]\tLoss: 0.018086\n",
            "Train Epoch: 3 [21280/60000 (40%)]\tLoss: 0.009601\n",
            "Train Epoch: 3 [24840/60000 (45%)]\tLoss: 0.003703\n",
            "Train Epoch: 3 [26800/60000 (50%)]\tLoss: 0.008919\n",
            "Train Epoch: 3 [30250/60000 (55%)]\tLoss: 0.032595\n",
            "Train Epoch: 3 [32400/60000 (60%)]\tLoss: 0.022404\n",
            "Train Epoch: 3 [34320/60000 (65%)]\tLoss: 0.003390\n",
            "Train Epoch: 3 [37940/60000 (70%)]\tLoss: 0.030504\n",
            "Train Epoch: 3 [40800/60000 (75%)]\tLoss: 0.015183\n",
            "Train Epoch: 3 [43680/60000 (80%)]\tLoss: 0.022357\n",
            "Train Epoch: 3 [47430/60000 (85%)]\tLoss: 0.070796\n",
            "Train Epoch: 3 [48420/60000 (90%)]\tLoss: 0.017650\n",
            "Train Epoch: 3 [51300/60000 (95%)]\tLoss: 0.030906\n",
            "\n",
            "Test set: Average loss: 0.0346, Accuracy: 8920/9026 (99%)\n",
            "\n"
          ],
          "name": "stdout"
        }
      ]
    },
    {
      "cell_type": "code",
      "metadata": {
        "colab": {
          "base_uri": "https://localhost:8080/"
        },
        "id": "NHzGVJGhPXE9",
        "outputId": "d7624c32-b2c1-43e4-d404-c4d82fc0c7df"
      },
      "source": [
        "test(Model_clone, device, test_loader, num, num_alt)"
      ],
      "execution_count": 61,
      "outputs": [
        {
          "output_type": "stream",
          "text": [
            "\n",
            "Test set: Average loss: 0.0365, Accuracy: 9004/9108 (99%)\n",
            "\n"
          ],
          "name": "stdout"
        }
      ]
    },
    {
      "cell_type": "code",
      "metadata": {
        "colab": {
          "base_uri": "https://localhost:8080/"
        },
        "id": "Iksya1fIyWHd",
        "outputId": "722f2595-e20e-4a35-8237-f3880b82e6c4"
      },
      "source": [
        "test(Model_clone, device, test_loader, num_alt, num) #classifier still works perfectly on original but fails on novel class. no change."
      ],
      "execution_count": 62,
      "outputs": [
        {
          "output_type": "stream",
          "text": [
            "\n",
            "Test set: Average loss: 0.3083, Accuracy: 8344/9026 (92%)\n",
            "\n"
          ],
          "name": "stdout"
        }
      ]
    },
    {
      "cell_type": "code",
      "metadata": {
        "id": "L7uyPbr-bZl7"
      },
      "source": [
        "import matplotlib.pyplot as plt"
      ],
      "execution_count": 63,
      "outputs": []
    },
    {
      "cell_type": "code",
      "metadata": {
        "id": "B-ewWTOgcACM"
      },
      "source": [
        "dat, tar = next(iter(test_loader))\n",
        "ix = (tar != num)\n",
        "dat, tar = dat[ix], tar[ix]\n",
        "tar[tar == num_alt] = -1\n",
        "tar[tar > num_alt] -= 1\n",
        "tar[tar > (num - (num > num_alt))] -= 1\n",
        "tar += 1\n",
        "\n"
      ],
      "execution_count": 69,
      "outputs": []
    },
    {
      "cell_type": "code",
      "metadata": {
        "colab": {
          "base_uri": "https://localhost:8080/",
          "height": 282
        },
        "id": "oZrjgcCLcekP",
        "outputId": "373a5e6d-efba-4d85-fd84-78fbc073f4d5"
      },
      "source": [
        "ex_ix = torch.argmin(tar).item()\n",
        "plt.imshow(dat[ex_ix].view(28,28))"
      ],
      "execution_count": 70,
      "outputs": [
        {
          "output_type": "execute_result",
          "data": {
            "text/plain": [
              "<matplotlib.image.AxesImage at 0x7f1466d98890>"
            ]
          },
          "metadata": {
            "tags": []
          },
          "execution_count": 70
        },
        {
          "output_type": "display_data",
          "data": {
            "image/png": "[encoded data removed]",
            "text/plain": [
              "<Figure size 432x288 with 1 Axes>"
            ]
          },
          "metadata": {
            "tags": [],
            "needs_background": "light"
          }
        }
      ]
    },
    {
      "cell_type": "code",
      "metadata": {
        "colab": {
          "base_uri": "https://localhost:8080/"
        },
        "id": "LSIuXbCl0brj",
        "outputId": "ed15fb3f-cabe-45df-8f28-aa68b551eaaa"
      },
      "source": [
        "print(num,num_alt)"
      ],
      "execution_count": 71,
      "outputs": [
        {
          "output_type": "stream",
          "text": [
            "8 5\n"
          ],
          "name": "stdout"
        }
      ]
    },
    {
      "cell_type": "code",
      "metadata": {
        "colab": {
          "base_uri": "https://localhost:8080/",
          "height": 282
        },
        "id": "XMX9qRBQcqFK",
        "outputId": "8afd46d5-4909-4038-8e0d-555d2e542a36"
      },
      "source": [
        "out_dat = stack.translator(dat.to(device))\n",
        "out_dat_cpu = out_dat.cpu().detach()\n",
        "plt.imshow(out_dat_cpu[ex_ix].view(28,28))"
      ],
      "execution_count": 72,
      "outputs": [
        {
          "output_type": "execute_result",
          "data": {
            "text/plain": [
              "<matplotlib.image.AxesImage at 0x7f1466d84290>"
            ]
          },
          "metadata": {
            "tags": []
          },
          "execution_count": 72
        },
        {
          "output_type": "display_data",
          "data": {
            "image/png": "[encoded data removed]",
            "text/plain": [
              "<Figure size 432x288 with 1 Axes>"
            ]
          },
          "metadata": {
            "tags": [],
            "needs_background": "light"
          }
        }
      ]
    },
    {
      "cell_type": "code",
      "metadata": {
        "id": "YTxvnyMRhrAS"
      },
      "source": [
        "out = stack.classifier(out_dat)\n",
        "pred = out.argmax(dim=1, keepdim=True)"
      ],
      "execution_count": 73,
      "outputs": []
    },
    {
      "cell_type": "code",
      "metadata": {
        "colab": {
          "base_uri": "https://localhost:8080/"
        },
        "id": "5e-q7KXLi-LU",
        "outputId": "dc363ab0-a4f3-4e2f-ad22-6fc877d358d5"
      },
      "source": [
        "pred.squeeze(1).cpu() == tar"
      ],
      "execution_count": 74,
      "outputs": [
        {
          "output_type": "execute_result",
          "data": {
            "text/plain": [
              "tensor([ True,  True,  True,  True,  True,  True,  True,  True,  True,  True,\n",
              "         True,  True,  True,  True,  True,  True,  True,  True,  True,  True,\n",
              "         True,  True, False,  True,  True,  True,  True,  True,  True,  True,\n",
              "         True,  True,  True,  True,  True,  True,  True,  True,  True,  True,\n",
              "         True,  True,  True,  True,  True,  True,  True,  True,  True,  True,\n",
              "         True,  True,  True,  True,  True,  True,  True,  True,  True,  True,\n",
              "         True,  True,  True,  True,  True,  True,  True,  True,  True,  True,\n",
              "         True,  True,  True,  True,  True,  True,  True,  True,  True,  True,\n",
              "         True,  True,  True,  True,  True,  True,  True,  True,  True,  True,\n",
              "         True,  True,  True,  True,  True,  True,  True,  True,  True,  True,\n",
              "         True,  True,  True,  True,  True,  True,  True,  True,  True,  True,\n",
              "         True,  True,  True,  True,  True,  True,  True,  True,  True,  True,\n",
              "         True,  True,  True,  True,  True,  True,  True,  True,  True,  True,\n",
              "         True,  True,  True,  True,  True,  True,  True,  True,  True,  True,\n",
              "         True,  True,  True,  True,  True, False,  True,  True,  True,  True,\n",
              "         True,  True,  True,  True,  True,  True,  True,  True,  True,  True,\n",
              "         True,  True,  True,  True,  True,  True,  True,  True,  True,  True,\n",
              "         True,  True, False,  True,  True,  True,  True,  True,  True,  True,\n",
              "         True,  True,  True,  True,  True,  True,  True,  True,  True,  True,\n",
              "         True,  True,  True,  True,  True,  True,  True,  True,  True,  True,\n",
              "         True,  True,  True,  True,  True,  True,  True,  True,  True,  True,\n",
              "         True,  True,  True,  True,  True,  True,  True,  True,  True,  True,\n",
              "         True,  True,  True,  True,  True,  True,  True,  True,  True,  True,\n",
              "         True,  True,  True,  True,  True,  True,  True,  True,  True,  True,\n",
              "         True,  True,  True,  True,  True,  True,  True,  True,  True,  True,\n",
              "         True,  True,  True, False,  True,  True,  True,  True,  True,  True,\n",
              "         True,  True,  True,  True,  True])"
            ]
          },
          "metadata": {
            "tags": []
          },
          "execution_count": 74
        }
      ]
    },
    {
      "cell_type": "code",
      "metadata": {
        "id": "tymb-fGa1Crk"
      },
      "source": [
        ""
      ],
      "execution_count": null,
      "outputs": []
    },
    {
      "cell_type": "markdown",
      "metadata": {
        "id": "Rc7a9Wcy1MQr"
      },
      "source": [
        "The translator net won't learn to morph \"num_alt\" into \"num\", even when trained to correctly classify all but \"num_alt\" originally. INTUITION: given train classifier, partition pixel space into classification regions. Then,translator is just learning to map \"num_alt\" into the classification region of \"num\", and this region is not specific enough to just digits of \"num\". Include lots of other stuff. NEXT: perhaps this is a good way to check if classifier really \"learns\" the class. If one can learn a map from some random pixel space to classification region of a certain class, if the region is truly attuned to the class then the learned map should generate instances of that class (that appear so to the human observer)"
      ]
    },
    {
      "cell_type": "code",
      "metadata": {
        "id": "qtsZ5z6Z1-sZ"
      },
      "source": [
        ""
      ],
      "execution_count": null,
      "outputs": []
    }
  ]
}